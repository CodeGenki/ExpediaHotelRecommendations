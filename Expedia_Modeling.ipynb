{
  "nbformat": 4,
  "nbformat_minor": 0,
  "metadata": {
    "colab": {
      "name": "Expedia Modeling",
      "version": "0.3.2",
      "provenance": []
    },
    "kernelspec": {
      "name": "python3",
      "display_name": "Python 3"
    }
  },
  "cells": [
    {
      "metadata": {
        "id": "L_yCCk_efE-F",
        "colab_type": "code",
        "outputId": "ed455977-4377-4002-de45-4b0a72589b67",
        "colab": {
          "base_uri": "https://localhost:8080/",
          "height": 34
        }
      },
      "cell_type": "code",
      "source": [
        "# Load the Drive helper and mount\n",
        "from google.colab import drive\n",
        "drive.mount('/content/drive')"
      ],
      "execution_count": 0,
      "outputs": [
        {
          "output_type": "stream",
          "text": [
            "Mounted at /content/drive\n"
          ],
          "name": "stdout"
        }
      ]
    },
    {
      "metadata": {
        "id": "y10tKYNZf6MG",
        "colab_type": "code",
        "outputId": "3f30cdae-9a27-4b94-ad5f-d1290162d45b",
        "colab": {
          "base_uri": "https://localhost:8080/",
          "height": 69
        }
      },
      "cell_type": "code",
      "source": [
        "!free -g"
      ],
      "execution_count": 0,
      "outputs": [
        {
          "output_type": "stream",
          "text": [
            "              total        used        free      shared  buff/cache   available\n",
            "Mem:             12           2           8           0           2          11\n",
            "Swap:             0           0           0\n"
          ],
          "name": "stdout"
        }
      ]
    },
    {
      "metadata": {
        "id": "6lBazkWjfRNS",
        "colab_type": "code",
        "outputId": "43403bf9-23a2-48de-b881-f7454ee3dd88",
        "colab": {
          "base_uri": "https://localhost:8080/",
          "height": 34
        }
      },
      "cell_type": "code",
      "source": [
        "import pandas as pd\n",
        "\n",
        "destinations = pd.read_csv(\"drive/My Drive/Colab Notebooks/dataset/destinations.csv\")\n",
        "test = pd.read_csv(\"drive/My Drive/Colab Notebooks/dataset/test.csv\")\n",
        "train = pd.read_csv(\"drive/My Drive/Colab Notebooks/dataset/ds_train.csv\")\n",
        "\n",
        "train.shape"
      ],
      "execution_count": 0,
      "outputs": [
        {
          "output_type": "execute_result",
          "data": {
            "text/plain": [
              "(319954, 27)"
            ]
          },
          "metadata": {
            "tags": []
          },
          "execution_count": 1
        }
      ]
    },
    {
      "metadata": {
        "id": "W0D2Y3IIfjdg",
        "colab_type": "code",
        "outputId": "11d8c3b4-e733-4ddf-aaf7-1726c8dd433f",
        "colab": {
          "base_uri": "https://localhost:8080/",
          "height": 34
        }
      },
      "cell_type": "code",
      "source": [
        "# 10,000 users "
      ],
      "execution_count": 0,
      "outputs": [
        {
          "output_type": "execute_result",
          "data": {
            "text/plain": [
              "(2528243, 22)"
            ]
          },
          "metadata": {
            "tags": []
          },
          "execution_count": 2
        }
      ]
    },
    {
      "metadata": {
        "id": "uyvr_3N-h7ME",
        "colab_type": "code",
        "outputId": "304559fc-b8b2-479e-9376-a3c49622667b",
        "colab": {
          "base_uri": "https://localhost:8080/",
          "height": 362
        }
      },
      "cell_type": "code",
      "source": [
        "cluster = train['hotel_cluster'].value_counts().index\n",
        "count = train['hotel_cluster'].value_counts().values\n",
        "\n",
        "import matplotlib.pyplot as plt\n",
        "plt.bar(cluster,count)\n",
        "plt.title(\"Instances of each cluster given cluster number\")\n",
        "plt.show()"
      ],
      "execution_count": 0,
      "outputs": [
        {
          "output_type": "display_data",
          "data": {
            "image/png": "[encoded data removed]",
            "text/plain": [
              "<matplotlib.figure.Figure at 0x7f3df3e297b8>"
            ]
          },
          "metadata": {
            "tags": []
          }
        }
      ]
    },
    {
      "metadata": {
        "id": "JdN_VT3QrvTN",
        "colab_type": "text"
      },
      "cell_type": "markdown",
      "source": [
        "There seems to be no correlation between cluster number and frequency."
      ]
    },
    {
      "metadata": {
        "id": "4IrYhFQ7tDFv",
        "colab_type": "code",
        "colab": {}
      },
      "cell_type": "code",
      "source": [
        "train['is_booking'].value_counts()\n",
        "\n",
        "train = train[train['is_booking']==True]"
      ],
      "execution_count": 0,
      "outputs": []
    },
    {
      "metadata": {
        "id": "ItEwnpyTtjCY",
        "colab_type": "code",
        "outputId": "cada4de7-4362-46cb-8bea-7f54119cad9a",
        "colab": {
          "base_uri": "https://localhost:8080/",
          "height": 138
        }
      },
      "cell_type": "code",
      "source": [
        "test.columns"
      ],
      "execution_count": 0,
      "outputs": [
        {
          "output_type": "execute_result",
          "data": {
            "text/plain": [
              "Index(['id', 'date_time', 'site_name', 'posa_continent',\n",
              "       'user_location_country', 'user_location_region', 'user_location_city',\n",
              "       'orig_destination_distance', 'user_id', 'is_mobile', 'is_package',\n",
              "       'channel', 'srch_ci', 'srch_co', 'srch_adults_cnt', 'srch_children_cnt',\n",
              "       'srch_rm_cnt', 'srch_destination_id', 'srch_destination_type_id',\n",
              "       'hotel_continent', 'hotel_country', 'hotel_market'],\n",
              "      dtype='object')"
            ]
          },
          "metadata": {
            "tags": []
          },
          "execution_count": 36
        }
      ]
    },
    {
      "metadata": {
        "id": "w2CEVrcptc9s",
        "colab_type": "code",
        "outputId": "86ca065e-00bc-45cd-bdd8-af4678c120df",
        "colab": {
          "base_uri": "https://localhost:8080/",
          "height": 51
        }
      },
      "cell_type": "code",
      "source": [
        "train['is_booking'].value_counts()"
      ],
      "execution_count": 0,
      "outputs": [
        {
          "output_type": "execute_result",
          "data": {
            "text/plain": [
              "1    25150\n",
              "Name: is_booking, dtype: int64"
            ]
          },
          "metadata": {
            "tags": []
          },
          "execution_count": 32
        }
      ]
    },
    {
      "metadata": {
        "id": "aQnWVqsVt6BI",
        "colab_type": "code",
        "colab": {}
      },
      "cell_type": "code",
      "source": [
        "# a stupid model\n",
        "\n",
        "# top 5 most common clusters\n",
        "most_common_clusters = list(train['hotel_cluster'].value_counts().head().index)\n",
        "predictions = [most_common_clusters for i in range(train.shape[0])]"
      ],
      "execution_count": 0,
      "outputs": []
    },
    {
      "metadata": {
        "id": "kvajJR9suQw0",
        "colab_type": "text"
      },
      "cell_type": "markdown",
      "source": [
        "## Evaluatiing Error\n",
        "\n",
        "> Indented block\n",
        "\n",
        "> Indented block\n",
        "\n",
        "> Indented block\n",
        "\n",
        "> Indented block\n",
        "\n",
        "> Indented block\n",
        "\n",
        "\n",
        "\n",
        "\n",
        "\n",
        "\n",
        "\n",
        "\n",
        "\n"
      ]
    },
    {
      "metadata": {
        "id": "83AGhgtOuTSF",
        "colab_type": "code",
        "outputId": "bec50bde-a010-4daf-ad22-3c2b6827a4cf",
        "colab": {
          "base_uri": "https://localhost:8080/",
          "height": 261
        }
      },
      "cell_type": "code",
      "source": [
        "! pip install ml_metrics"
      ],
      "execution_count": 0,
      "outputs": [
        {
          "output_type": "stream",
          "text": [
            "Collecting ml_metrics\n",
            "  Downloading https://files.pythonhosted.org/packages/c1/e7/c31a2dd37045a0c904bee31c2dbed903d4f125a6ce980b91bae0c961abb8/ml_metrics-0.1.4.tar.gz\n",
            "Requirement already satisfied: numpy in /usr/local/lib/python3.6/dist-packages (from ml_metrics) (1.14.6)\n",
            "Requirement already satisfied: pandas in /usr/local/lib/python3.6/dist-packages (from ml_metrics) (0.22.0)\n",
            "Requirement already satisfied: python-dateutil>=2 in /usr/local/lib/python3.6/dist-packages (from pandas->ml_metrics) (2.5.3)\n",
            "Requirement already satisfied: pytz>=2011k in /usr/local/lib/python3.6/dist-packages (from pandas->ml_metrics) (2018.7)\n",
            "Requirement already satisfied: six>=1.5 in /usr/local/lib/python3.6/dist-packages (from python-dateutil>=2->pandas->ml_metrics) (1.11.0)\n",
            "Building wheels for collected packages: ml-metrics\n",
            "  Running setup.py bdist_wheel for ml-metrics ... \u001b[?25l-\b \b\\\b \b|\b \b/\b \bdone\n",
            "\u001b[?25h  Stored in directory: /root/.cache/pip/wheels/b3/61/2d/776be7b8a4f14c5db48c8e5451451cabc58dc6aa7ee3801163\n",
            "Successfully built ml-metrics\n",
            "Installing collected packages: ml-metrics\n",
            "Successfully installed ml-metrics-0.1.4\n"
          ],
          "name": "stdout"
        }
      ]
    },
    {
      "metadata": {
        "id": "3WPOr0Viuryv",
        "colab_type": "code",
        "outputId": "399a3210-9893-49f1-9d8b-5e25fc65a552",
        "colab": {
          "base_uri": "https://localhost:8080/",
          "height": 34
        }
      },
      "cell_type": "code",
      "source": [
        "import ml_metrics as metrics\n",
        "target= [[l] for l in train['hotel_cluster']]\n",
        "\n",
        "print(\"Mean Precision Error:\", metrics.mapk(target,predictions,k=5))"
      ],
      "execution_count": 0,
      "outputs": [
        {
          "output_type": "stream",
          "text": [
            "Mean Precision Error: 0.07259907223326705\n"
          ],
          "name": "stdout"
        }
      ]
    },
    {
      "metadata": {
        "id": "8EA6d7PKvcW9",
        "colab_type": "code",
        "outputId": "30112d70-13ba-410d-8143-91d8a6ce1d04",
        "colab": {
          "base_uri": "https://localhost:8080/",
          "height": 467
        }
      },
      "cell_type": "code",
      "source": [
        "import seaborn as sns\n",
        "corr = train.corr()\n",
        "sns.heatmap(corr, \n",
        "            xticklabels=corr.columns.values,\n",
        "            yticklabels=corr.columns.values)"
      ],
      "execution_count": 0,
      "outputs": [
        {
          "output_type": "execute_result",
          "data": {
            "text/plain": [
              "<matplotlib.axes._subplots.AxesSubplot at 0x7f3df310ccf8>"
            ]
          },
          "metadata": {
            "tags": []
          },
          "execution_count": 44
        },
        {
          "output_type": "display_data",
          "data": {
            "image/png": "[encoded data removed]",
            "text/plain": [
              "<matplotlib.figure.Figure at 0x7f3df6a2c5c0>"
            ]
          },
          "metadata": {
            "tags": []
          }
        }
      ]
    },
    {
      "metadata": {
        "id": "Lty6r0S7wEWH",
        "colab_type": "text"
      },
      "cell_type": "markdown",
      "source": [
        "This means that techniques like linear and logistic regression will not work well on our dataset."
      ]
    },
    {
      "metadata": {
        "id": "t3457RQhwX-T",
        "colab_type": "text"
      },
      "cell_type": "markdown",
      "source": [
        "## PCA on the Destinations Data"
      ]
    },
    {
      "metadata": {
        "id": "ApaqQzF9wbe-",
        "colab_type": "code",
        "colab": {}
      },
      "cell_type": "code",
      "source": [
        "from sklearn.decomposition import PCA\n",
        "\n",
        "pca = PCA(n_components=3)\n",
        "dest_small = pca.fit_transform(destinations[[\"d{0}\".format(i + 1) for i in range(149)]]\n",
        "dest_small = pd.DataFrame(dest_small)\n",
        "dest_small[\"srch_destination_id\"] = destinations[\"srch_destination_id\"]"
      ],
      "execution_count": 0,
      "outputs": []
    },
    {
      "metadata": {
        "id": "qolZMzQrw0YU",
        "colab_type": "code",
        "colab": {}
      },
      "cell_type": "code",
      "source": [
        "# Adding features to the training set"
      ],
      "execution_count": 0,
      "outputs": []
    },
    {
      "metadata": {
        "id": "wcbdGTWootVE",
        "colab_type": "text"
      },
      "cell_type": "markdown",
      "source": [
        "## Model Selection"
      ]
    },
    {
      "metadata": {
        "id": "zJ9vlFYupYGT",
        "colab_type": "text"
      },
      "cell_type": "markdown",
      "source": [
        "Cross validate using scoring metric outlined in the kaggle competition, CV of 3. Features were narrowed down to 5 using PCA"
      ]
    },
    {
      "metadata": {
        "id": "CYIUkLgmovHh",
        "colab_type": "code",
        "colab": {}
      },
      "cell_type": "code",
      "source": [
        "# Ensembling Methods (Train binary classifiers for each cluster)\n",
        "\n",
        "# RF\n",
        "# Bagging\n",
        "# Gradient Boosting"
      ],
      "execution_count": 0,
      "outputs": []
    },
    {
      "metadata": {
        "id": "CvWAFHVcowzK",
        "colab_type": "code",
        "colab": {}
      },
      "cell_type": "code",
      "source": [
        "# Simple Models\n",
        "\n",
        "# Naive Bayes\n",
        "# Logistic\n",
        "# KNN\n",
        "# ANN"
      ],
      "execution_count": 0,
      "outputs": []
    },
    {
      "metadata": {
        "id": "pkGqVhneo0T-",
        "colab_type": "code",
        "colab": {}
      },
      "cell_type": "code",
      "source": [
        "# SVMs\n",
        "\n",
        "# RBF\n",
        "# Linear\n",
        "# Poly"
      ],
      "execution_count": 0,
      "outputs": []
    },
    {
      "metadata": {
        "id": "G_MvyY7bo43X",
        "colab_type": "code",
        "colab": {}
      },
      "cell_type": "code",
      "source": [
        "# Factorization Machine"
      ],
      "execution_count": 0,
      "outputs": []
    },
    {
      "metadata": {
        "id": "sZaJh3WLo-vb",
        "colab_type": "code",
        "colab": {}
      },
      "cell_type": "code",
      "source": [
        "# Output code Classifier"
      ],
      "execution_count": 0,
      "outputs": []
    },
    {
      "metadata": {
        "id": "ELrXzvNjpN9c",
        "colab_type": "code",
        "colab": {}
      },
      "cell_type": "code",
      "source": [
        "# Associatve Rule Learning"
      ],
      "execution_count": 0,
      "outputs": []
    }
  ]
}